{
 "cells": [
  {
   "cell_type": "markdown",
   "metadata": {},
   "source": [
    "<h1> Capstone Project Week 1"
   ]
  },
  {
   "cell_type": "markdown",
   "metadata": {},
   "source": [
    "<h2> Review Criteria"
   ]
  },
  {
   "cell_type": "markdown",
   "metadata": {},
   "source": [
    "<h3>Part 1: A description of the problem and a discussion of the background. (15 marks)"
   ]
  },
  {
   "cell_type": "markdown",
   "metadata": {},
   "source": [
    "Clearly define a problem or an idea of your choice, where you would need to leverage the Foursquare location data to solve or execute. Remember that data science problems always target an audience and are meant to help a group of stakeholders solve a problem, so make sure that you explicitly describe your audience and why they would care about your problem.\n",
    "\n",
    "This submission will eventually become your Introduction/Business Problem section in your final report. So I recommend that you push the report (having your Introduction/Business Problem section only for now) to your Github repository and submit a link to it."
   ]
  },
  {
   "cell_type": "markdown",
   "metadata": {},
   "source": [
    "<h3> Part 2: A description of the data and how it will be used to solve the problem. (15 marks)"
   ]
  },
  {
   "cell_type": "markdown",
   "metadata": {},
   "source": [
    "Describe the data that you will be using to solve the problem or execute your idea. Remember that you will need to use the Foursquare location data to solve the problem or execute your idea. You can absolutely use other datasets in combination with the Foursquare location data. So make sure that you provide adequate explanation and discussion, with examples, of the data that you will be using, even if it is only Foursquare location data.\n",
    "\n",
    "This submission will eventually become your Data section in your final report. So I recommend that you push the report (having your Data section) to your Github repository and submit a link to it."
   ]
  },
  {
   "cell_type": "markdown",
   "metadata": {},
   "source": [
    "<h2> Part 1 (Problem)"
   ]
  },
  {
   "cell_type": "markdown",
   "metadata": {},
   "source": [
    "Where in Downtown Sacramento, California would it be best to open a restaurant? \n",
    "\n",
    "Questions to answer:\n",
    "What are the most common types of restaurants?\\\n",
    "What are the least common types of restaurants?\\\n",
    "Where are the most popular restaurants? i.e. What restaurants have the most reviews?\n"
   ]
  },
  {
   "cell_type": "markdown",
   "metadata": {},
   "source": [
    "<h2> Part 2 (Data)"
   ]
  },
  {
   "cell_type": "markdown",
   "metadata": {},
   "source": [
    "The data that will be used is Foursquare data for Sacramento, California. It will focus on venues of restaurant types. The Popularity will be a good indicator for how good an area is for a restaurant "
   ]
  },
  {
   "cell_type": "code",
   "execution_count": 1,
   "metadata": {},
   "outputs": [
    {
     "name": "stdout",
     "output_type": "stream",
     "text": [
      "Collecting package metadata (current_repodata.json): done\n",
      "Solving environment: done\n",
      "\n",
      "# All requested packages already installed.\n",
      "\n",
      "Collecting package metadata (current_repodata.json): done\n",
      "Solving environment: done\n",
      "\n",
      "# All requested packages already installed.\n",
      "\n",
      "Libraries imported.\n"
     ]
    }
   ],
   "source": [
    "#importing libraries \n",
    "import numpy as np # library to handle data in a vectorized manner\n",
    "\n",
    "import pandas as pd # library for data analsysis\n",
    "pd.set_option('display.max_columns', None)\n",
    "pd.set_option('display.max_rows', None)\n",
    "\n",
    "import json # library to handle JSON files\n",
    "\n",
    "!conda install -c conda-forge geopy --yes \n",
    "from geopy.geocoders import Nominatim # convert an address into latitude and longitude values\n",
    "\n",
    "import requests # library to handle requests\n",
    "from pandas.io.json import json_normalize # tranform JSON file into a pandas dataframe\n",
    "import requests, json\n",
    "\n",
    "# Matplotlib and associated plotting modules\n",
    "import matplotlib.cm as cm\n",
    "import matplotlib.colors as colors\n",
    "\n",
    "#import k-means from clustering stage\n",
    "from sklearn.cluster import KMeans\n",
    "\n",
    "!conda install -c conda-forge folium=0.5.0 --yes \n",
    "import folium # map rendering library\n",
    "\n",
    "import requests\n",
    "\n",
    "print('Libraries imported.')"
   ]
  },
  {
   "cell_type": "code",
   "execution_count": 2,
   "metadata": {},
   "outputs": [
    {
     "name": "stdout",
     "output_type": "stream",
     "text": [
      "The geograpical coordinate of Sacramento is 38.5760675, -121.49144704301602.\n"
     ]
    }
   ],
   "source": [
    "# Get longitude and latitude for Sacramento\n",
    "address = 'Capitol Park Sacramento, California'\n",
    "\n",
    "geolocator = Nominatim(user_agent=\"rio_explorer\")\n",
    "location = geolocator.geocode(address)\n",
    "latitude = location.latitude\n",
    "longitude = location.longitude\n",
    "print('The geograpical coordinate of Sacramento is {}, {}.'.format(latitude, longitude))"
   ]
  },
  {
   "cell_type": "code",
   "execution_count": 3,
   "metadata": {},
   "outputs": [],
   "source": [
    "CLIENT_ID = 'ZTBWDEYHN1G2TQTPDGVP0CZXBVUXZUVA0KYT3SRZ4TTLIXVB' # your Foursquare ID\n",
    "CLIENT_SECRET = '5IBVWVLZJH2UY2JSFVBM4VXYO1RSEN22EZ00AOSEL02HNSWR' # your Foursquare Secret\n",
    "VERSION = '20180605' # Foursquare API version\n",
    "LIMIT = 3000 # limit of number of venues returned by Foursquare API\n",
    "radius = 2000 # define radius\n",
    "#categoryId = '4bf58dd8d48988d148941735'\n",
    "search_query = 'italian'\n",
    "# create URL with search query\n",
    "url = 'https://api.foursquare.com/v2/venues/search?client_id={}&client_secret={}&ll={},{}&v={}&query={}&radius={}&limit={}'.format(CLIENT_ID, CLIENT_SECRET, latitude, longitude, VERSION, search_query, radius, LIMIT)\n",
    "\n",
    "#creat radius w/o search query\n",
    "#url = 'https://api.foursquare.com/v2/venues/explore?client_id={}&client_secret={}&ll={},{}&v={}&radius={}&limit={}'.format(CLIENT_ID, CLIENT_SECRET, latitude, longitude, VERSION,radius, LIMIT, catagoryId)"
   ]
  },
  {
   "cell_type": "code",
   "execution_count": 4,
   "metadata": {},
   "outputs": [],
   "source": [
    "results = requests.get(url).json()\n"
   ]
  },
  {
   "cell_type": "code",
   "execution_count": 5,
   "metadata": {},
   "outputs": [
    {
     "name": "stderr",
     "output_type": "stream",
     "text": [
      "/home/jupyterlab/conda/envs/python/lib/python3.6/site-packages/ipykernel_launcher.py:3: FutureWarning: pandas.io.json.json_normalize is deprecated, use pandas.json_normalize instead\n",
      "  This is separate from the ipykernel package so we can avoid doing imports until\n"
     ]
    },
    {
     "data": {
      "text/html": [
       "<div>\n",
       "<style scoped>\n",
       "    .dataframe tbody tr th:only-of-type {\n",
       "        vertical-align: middle;\n",
       "    }\n",
       "\n",
       "    .dataframe tbody tr th {\n",
       "        vertical-align: top;\n",
       "    }\n",
       "\n",
       "    .dataframe thead th {\n",
       "        text-align: right;\n",
       "    }\n",
       "</style>\n",
       "<table border=\"1\" class=\"dataframe\">\n",
       "  <thead>\n",
       "    <tr style=\"text-align: right;\">\n",
       "      <th></th>\n",
       "      <th>id</th>\n",
       "      <th>name</th>\n",
       "      <th>categories</th>\n",
       "      <th>referralId</th>\n",
       "      <th>hasPerk</th>\n",
       "      <th>location.address</th>\n",
       "      <th>location.lat</th>\n",
       "      <th>location.lng</th>\n",
       "      <th>location.labeledLatLngs</th>\n",
       "      <th>location.distance</th>\n",
       "      <th>location.postalCode</th>\n",
       "      <th>location.cc</th>\n",
       "      <th>location.city</th>\n",
       "      <th>location.state</th>\n",
       "      <th>location.country</th>\n",
       "      <th>location.formattedAddress</th>\n",
       "      <th>location.crossStreet</th>\n",
       "    </tr>\n",
       "  </thead>\n",
       "  <tbody>\n",
       "    <tr>\n",
       "      <th>0</th>\n",
       "      <td>4f326e7e19836c91c7d72f4e</td>\n",
       "      <td>Italian Imports</td>\n",
       "      <td>[{'id': '4d4b7105d754a06374d81259', 'name': 'F...</td>\n",
       "      <td>v-1593984788</td>\n",
       "      <td>False</td>\n",
       "      <td>1100 Front St</td>\n",
       "      <td>38.582260</td>\n",
       "      <td>-121.506477</td>\n",
       "      <td>[{'label': 'display', 'lat': 38.58226013183594...</td>\n",
       "      <td>1478</td>\n",
       "      <td>95814</td>\n",
       "      <td>US</td>\n",
       "      <td>Sacramento</td>\n",
       "      <td>CA</td>\n",
       "      <td>United States</td>\n",
       "      <td>[1100 Front St, Sacramento, CA 95814, United S...</td>\n",
       "      <td>NaN</td>\n",
       "    </tr>\n",
       "    <tr>\n",
       "      <th>1</th>\n",
       "      <td>4dd84af5fa76ad96d13af3d3</td>\n",
       "      <td>Little Rich's Italian Ice</td>\n",
       "      <td>[{'id': '4bf58dd8d48988d1c9941735', 'name': 'I...</td>\n",
       "      <td>v-1593984788</td>\n",
       "      <td>False</td>\n",
       "      <td>106 L St</td>\n",
       "      <td>38.581032</td>\n",
       "      <td>-121.506081</td>\n",
       "      <td>[{'label': 'display', 'lat': 38.58103179931640...</td>\n",
       "      <td>1388</td>\n",
       "      <td>95814</td>\n",
       "      <td>US</td>\n",
       "      <td>Sacramento</td>\n",
       "      <td>CA</td>\n",
       "      <td>United States</td>\n",
       "      <td>[106 L St (at Front St), Sacramento, CA 95814,...</td>\n",
       "      <td>at Front St</td>\n",
       "    </tr>\n",
       "    <tr>\n",
       "      <th>2</th>\n",
       "      <td>5e0230225a57b600084eaead</td>\n",
       "      <td>Sacramento Cucina Italiana</td>\n",
       "      <td>[{'id': '4bf58dd8d48988d110941735', 'name': 'I...</td>\n",
       "      <td>v-1593984788</td>\n",
       "      <td>False</td>\n",
       "      <td>400 Capitol Mall</td>\n",
       "      <td>38.578685</td>\n",
       "      <td>-121.502567</td>\n",
       "      <td>[{'label': 'display', 'lat': 38.5786852130786,...</td>\n",
       "      <td>1010</td>\n",
       "      <td>95814</td>\n",
       "      <td>US</td>\n",
       "      <td>Sacramento</td>\n",
       "      <td>CA</td>\n",
       "      <td>United States</td>\n",
       "      <td>[400 Capitol Mall, Sacramento, CA 95814, Unite...</td>\n",
       "      <td>NaN</td>\n",
       "    </tr>\n",
       "  </tbody>\n",
       "</table>\n",
       "</div>"
      ],
      "text/plain": [
       "                         id                        name  \\\n",
       "0  4f326e7e19836c91c7d72f4e             Italian Imports   \n",
       "1  4dd84af5fa76ad96d13af3d3   Little Rich's Italian Ice   \n",
       "2  5e0230225a57b600084eaead  Sacramento Cucina Italiana   \n",
       "\n",
       "                                          categories    referralId  hasPerk  \\\n",
       "0  [{'id': '4d4b7105d754a06374d81259', 'name': 'F...  v-1593984788    False   \n",
       "1  [{'id': '4bf58dd8d48988d1c9941735', 'name': 'I...  v-1593984788    False   \n",
       "2  [{'id': '4bf58dd8d48988d110941735', 'name': 'I...  v-1593984788    False   \n",
       "\n",
       "   location.address  location.lat  location.lng  \\\n",
       "0     1100 Front St     38.582260   -121.506477   \n",
       "1          106 L St     38.581032   -121.506081   \n",
       "2  400 Capitol Mall     38.578685   -121.502567   \n",
       "\n",
       "                             location.labeledLatLngs  location.distance  \\\n",
       "0  [{'label': 'display', 'lat': 38.58226013183594...               1478   \n",
       "1  [{'label': 'display', 'lat': 38.58103179931640...               1388   \n",
       "2  [{'label': 'display', 'lat': 38.5786852130786,...               1010   \n",
       "\n",
       "  location.postalCode location.cc location.city location.state  \\\n",
       "0               95814          US    Sacramento             CA   \n",
       "1               95814          US    Sacramento             CA   \n",
       "2               95814          US    Sacramento             CA   \n",
       "\n",
       "  location.country                          location.formattedAddress  \\\n",
       "0    United States  [1100 Front St, Sacramento, CA 95814, United S...   \n",
       "1    United States  [106 L St (at Front St), Sacramento, CA 95814,...   \n",
       "2    United States  [400 Capitol Mall, Sacramento, CA 95814, Unite...   \n",
       "\n",
       "  location.crossStreet  \n",
       "0                  NaN  \n",
       "1          at Front St  \n",
       "2                  NaN  "
      ]
     },
     "execution_count": 5,
     "metadata": {},
     "output_type": "execute_result"
    }
   ],
   "source": [
    "#venues = results['response']['groups'][0]['items'] #explore\n",
    "venues = results['response']['venues'] #search\n",
    "nearby_venues = json_normalize(venues) # flatten JSON\n",
    "nearby_venues.head()"
   ]
  },
  {
   "cell_type": "code",
   "execution_count": null,
   "metadata": {},
   "outputs": [],
   "source": []
  },
  {
   "cell_type": "code",
   "execution_count": 10,
   "metadata": {},
   "outputs": [
    {
     "data": {
      "text/html": [
       "<div>\n",
       "<style scoped>\n",
       "    .dataframe tbody tr th:only-of-type {\n",
       "        vertical-align: middle;\n",
       "    }\n",
       "\n",
       "    .dataframe tbody tr th {\n",
       "        vertical-align: top;\n",
       "    }\n",
       "\n",
       "    .dataframe thead th {\n",
       "        text-align: right;\n",
       "    }\n",
       "</style>\n",
       "<table border=\"1\" class=\"dataframe\">\n",
       "  <thead>\n",
       "    <tr style=\"text-align: right;\">\n",
       "      <th></th>\n",
       "      <th>id</th>\n",
       "      <th>name</th>\n",
       "      <th>categories</th>\n",
       "      <th>referralId</th>\n",
       "      <th>hasPerk</th>\n",
       "      <th>address</th>\n",
       "      <th>lat</th>\n",
       "      <th>lng</th>\n",
       "      <th>labeledLatLngs</th>\n",
       "      <th>distance</th>\n",
       "      <th>postalCode</th>\n",
       "      <th>cc</th>\n",
       "      <th>city</th>\n",
       "      <th>state</th>\n",
       "      <th>country</th>\n",
       "      <th>formattedAddress</th>\n",
       "      <th>crossStreet</th>\n",
       "    </tr>\n",
       "  </thead>\n",
       "  <tbody>\n",
       "    <tr>\n",
       "      <th>0</th>\n",
       "      <td>4f326e7e19836c91c7d72f4e</td>\n",
       "      <td>Italian Imports</td>\n",
       "      <td>Food</td>\n",
       "      <td>v-1593984788</td>\n",
       "      <td>False</td>\n",
       "      <td>1100 Front St</td>\n",
       "      <td>38.582260</td>\n",
       "      <td>-121.506477</td>\n",
       "      <td>[{'label': 'display', 'lat': 38.58226013183594...</td>\n",
       "      <td>1478</td>\n",
       "      <td>95814</td>\n",
       "      <td>US</td>\n",
       "      <td>Sacramento</td>\n",
       "      <td>CA</td>\n",
       "      <td>United States</td>\n",
       "      <td>[1100 Front St, Sacramento, CA 95814, United S...</td>\n",
       "      <td>NaN</td>\n",
       "    </tr>\n",
       "    <tr>\n",
       "      <th>1</th>\n",
       "      <td>4dd84af5fa76ad96d13af3d3</td>\n",
       "      <td>Little Rich's Italian Ice</td>\n",
       "      <td>Ice Cream Shop</td>\n",
       "      <td>v-1593984788</td>\n",
       "      <td>False</td>\n",
       "      <td>106 L St</td>\n",
       "      <td>38.581032</td>\n",
       "      <td>-121.506081</td>\n",
       "      <td>[{'label': 'display', 'lat': 38.58103179931640...</td>\n",
       "      <td>1388</td>\n",
       "      <td>95814</td>\n",
       "      <td>US</td>\n",
       "      <td>Sacramento</td>\n",
       "      <td>CA</td>\n",
       "      <td>United States</td>\n",
       "      <td>[106 L St (at Front St), Sacramento, CA 95814,...</td>\n",
       "      <td>at Front St</td>\n",
       "    </tr>\n",
       "    <tr>\n",
       "      <th>2</th>\n",
       "      <td>5e0230225a57b600084eaead</td>\n",
       "      <td>Sacramento Cucina Italiana</td>\n",
       "      <td>Italian Restaurant</td>\n",
       "      <td>v-1593984788</td>\n",
       "      <td>False</td>\n",
       "      <td>400 Capitol Mall</td>\n",
       "      <td>38.578685</td>\n",
       "      <td>-121.502567</td>\n",
       "      <td>[{'label': 'display', 'lat': 38.5786852130786,...</td>\n",
       "      <td>1010</td>\n",
       "      <td>95814</td>\n",
       "      <td>US</td>\n",
       "      <td>Sacramento</td>\n",
       "      <td>CA</td>\n",
       "      <td>United States</td>\n",
       "      <td>[400 Capitol Mall, Sacramento, CA 95814, Unite...</td>\n",
       "      <td>NaN</td>\n",
       "    </tr>\n",
       "  </tbody>\n",
       "</table>\n",
       "</div>"
      ],
      "text/plain": [
       "                         id                        name          categories  \\\n",
       "0  4f326e7e19836c91c7d72f4e             Italian Imports                Food   \n",
       "1  4dd84af5fa76ad96d13af3d3   Little Rich's Italian Ice      Ice Cream Shop   \n",
       "2  5e0230225a57b600084eaead  Sacramento Cucina Italiana  Italian Restaurant   \n",
       "\n",
       "     referralId  hasPerk           address        lat         lng  \\\n",
       "0  v-1593984788    False     1100 Front St  38.582260 -121.506477   \n",
       "1  v-1593984788    False          106 L St  38.581032 -121.506081   \n",
       "2  v-1593984788    False  400 Capitol Mall  38.578685 -121.502567   \n",
       "\n",
       "                                      labeledLatLngs  distance postalCode  cc  \\\n",
       "0  [{'label': 'display', 'lat': 38.58226013183594...      1478      95814  US   \n",
       "1  [{'label': 'display', 'lat': 38.58103179931640...      1388      95814  US   \n",
       "2  [{'label': 'display', 'lat': 38.5786852130786,...      1010      95814  US   \n",
       "\n",
       "         city state        country  \\\n",
       "0  Sacramento    CA  United States   \n",
       "1  Sacramento    CA  United States   \n",
       "2  Sacramento    CA  United States   \n",
       "\n",
       "                                    formattedAddress  crossStreet  \n",
       "0  [1100 Front St, Sacramento, CA 95814, United S...          NaN  \n",
       "1  [106 L St (at Front St), Sacramento, CA 95814,...  at Front St  \n",
       "2  [400 Capitol Mall, Sacramento, CA 95814, Unite...          NaN  "
      ]
     },
     "execution_count": 10,
     "metadata": {},
     "output_type": "execute_result"
    }
   ],
   "source": [
    "#for explore put \"venue._____\" i.e venue.names\n",
    "filtered_columns = ['venue.name', 'venue.categories'] + [col for col in nearby_venues.columns if col.startswith('location.')] + ['id']\n",
    "dataframe_filtered = nearby_venues\n",
    "\n",
    "# function that extracts the category of the venue\n",
    "def get_category_type(row):\n",
    "    try:\n",
    "        categories_list = row['categories']\n",
    "    except:\n",
    "        categories_list = row['venue.categories']\n",
    "        \n",
    "    if len(categories_list) == 0:\n",
    "        return None\n",
    "    else:\n",
    "        return categories_list[0]['name']\n",
    "\n",
    "# filter the category for each row\n",
    "dataframe_filtered['categories'] = dataframe_filtered.apply(get_category_type, axis=1)\n",
    "\n",
    "# clean column names by keeping only last term\n",
    "dataframe_filtered.columns = [column.split('.')[-1] for column in dataframe_filtered.columns]\n",
    "dataframe_filtered.head()"
   ]
  },
  {
   "cell_type": "code",
   "execution_count": 11,
   "metadata": {},
   "outputs": [
    {
     "data": {
      "text/html": [
       "<div style=\"width:100%;\"><div style=\"position:relative;width:100%;height:0;padding-bottom:60%;\"><span style=\"color:#565656\">Make this Notebook Trusted to load map: File -> Trust Notebook</span><iframe src=\"about:blank\" style=\"position:absolute;width:100%;height:100%;left:0;top:0;border:none !important;\" data-html=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 onload=\"this.contentDocument.open();this.contentDocument.write(atob(this.getAttribute('data-html')));this.contentDocument.close();\" allowfullscreen webkitallowfullscreen mozallowfullscreen></iframe></div></div>"
      ],
      "text/plain": [
       "<folium.folium.Map at 0x7fd4b5f9fc50>"
      ]
     },
     "execution_count": 11,
     "metadata": {},
     "output_type": "execute_result"
    }
   ],
   "source": [
    "venues_map = folium.Map(location=[latitude, longitude], zoom_start=13) # generate map centred around the Capitol Park Center\n",
    "\n",
    "# add a red circle marker to represent city center\n",
    "folium.features.CircleMarker(\n",
    "    [latitude, longitude],\n",
    "    radius=10,\n",
    "    color='red',\n",
    "    popup='Capitol Park Center',\n",
    "    fill = True,\n",
    "    fill_color = 'red',\n",
    "    fill_opacity = 0.6\n",
    ").add_to(venues_map)\n",
    "\n",
    "# add the Italian restaurants as blue circle markers\n",
    "for lat, lng, label in zip(dataframe_filtered.lat, dataframe_filtered.lng, dataframe_filtered.categories):\n",
    "    folium.features.CircleMarker(\n",
    "        [lat, lng],\n",
    "        radius=5,\n",
    "        color='blue',\n",
    "        popup=label,\n",
    "        fill = True,\n",
    "        fill_color='blue',\n",
    "        fill_opacity=0.6\n",
    "    ).add_to(venues_map)\n",
    "\n",
    "# display map\n",
    "venues_map\n",
    "\n"
   ]
  },
  {
   "cell_type": "code",
   "execution_count": null,
   "metadata": {},
   "outputs": [],
   "source": []
  },
  {
   "cell_type": "code",
   "execution_count": null,
   "metadata": {},
   "outputs": [],
   "source": []
  },
  {
   "cell_type": "code",
   "execution_count": null,
   "metadata": {},
   "outputs": [],
   "source": []
  }
 ],
 "metadata": {
  "kernelspec": {
   "display_name": "Python",
   "language": "python",
   "name": "conda-env-python-py"
  },
  "language_info": {
   "codemirror_mode": {
    "name": "ipython",
    "version": 3
   },
   "file_extension": ".py",
   "mimetype": "text/x-python",
   "name": "python",
   "nbconvert_exporter": "python",
   "pygments_lexer": "ipython3",
   "version": "3.6.10"
  }
 },
 "nbformat": 4,
 "nbformat_minor": 4
}
